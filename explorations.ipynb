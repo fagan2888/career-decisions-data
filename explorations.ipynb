{
 "cells": [
  {
   "cell_type": "markdown",
   "metadata": {},
   "source": [
    "# The Career Decisions of Young Men\n",
    "\n",
    "This notebook processes and explores the data for the seminal work by Michael Keane and Kenneth Wolpin studying the career decisions of young men.\n",
    "\n",
    "> Michael P. Keane, Kenneth I. Wolpin (1997). [The Career Decisions of Young Men](http://www.journals.uchicago.edu/doi/10.1086/262080). *Journal of Political Economy*, 105(3): 473-522.\n",
    "\n",
    "The original file "
   ]
  },
  {
   "cell_type": "markdown",
   "metadata": {},
   "source": [
    "## Preparations\n",
    "\n",
    "We first peform some basic preparations on the original dataset that eases further processing."
   ]
  },
  {
   "cell_type": "code",
   "execution_count": 71,
   "metadata": {},
   "outputs": [],
   "source": [
    "import pandas as pd\n",
    "import numpy as np\n",
    "\n",
    "columns = ['Identifier', 'Age', 'Schooling', 'Choice', 'Wage']\n",
    "dtype = {'Identifier': np.int, 'Age': np.int,  'Schooling': np.int,  'Choice': 'category'}\n",
    "\n",
    "df = pd.DataFrame(np.genfromtxt('KW_97.txt'), columns=columns).astype(dtype)\n",
    "df.set_index(['Identifier', 'Age'], inplace=True, drop=False)\n",
    "df[\"Choice\"].cat.categories = ['Schooling', 'Home', 'White', 'Blue', 'Military']"
   ]
  },
  {
   "cell_type": "markdown",
   "metadata": {},
   "source": [
    "## Basic Descriptives\n",
    "\n",
    "We start by reproducing some basic descriptive statistics from the paper.\n",
    "\n",
    "### Choice Probabilities\n",
    "\n",
    "We reproduce the choice probabilities reported in Tabel 1 of the orignal paper."
   ]
  },
  {
   "cell_type": "code",
   "execution_count": 72,
   "metadata": {
    "collapsed": true
   },
   "outputs": [],
   "source": [
    "# Please reproduce Table 1"
   ]
  },
  {
   "cell_type": "markdown",
   "metadata": {},
   "source": [
    "### Average Real Wages\n",
    "\n",
    "We reproduce the average real wages by occpation reported in Table 4 of the original paper."
   ]
  },
  {
   "cell_type": "code",
   "execution_count": 73,
   "metadata": {
    "collapsed": true
   },
   "outputs": [],
   "source": [
    "# Please reproduce Table 2"
   ]
  },
  {
   "cell_type": "markdown",
   "metadata": {},
   "source": [
    "## State Variables\n",
    "\n",
    "We extend the original data and derive the full set of state variables.\n",
    "\n",
    "\n",
    "* Blue-collar work experience, linear and squared\n",
    "\n",
    "* White-collar work experience, linear and squared\n",
    "\n",
    "* Military work experience, linear"
   ]
  },
  {
   "cell_type": "code",
   "execution_count": 78,
   "metadata": {
    "collapsed": true
   },
   "outputs": [],
   "source": [
    "# Please compute the additional state variables"
   ]
  },
  {
   "cell_type": "markdown",
   "metadata": {},
   "source": [
    "## Further Processing\n",
    "\n",
    "We simply store a DataFrame and a simple text file to ease further processig. These checked into version control so they can be directly downloaded by interested researchers."
   ]
  },
  {
   "cell_type": "code",
   "execution_count": 77,
   "metadata": {
    "collapsed": true
   },
   "outputs": [],
   "source": [
    "fname = 'career_decisions_data'\n",
    "df.to_pickle(fname + '.pkl')\n",
    "df.to_csv(fname + '.csv', index=False)"
   ]
  }
 ],
 "metadata": {
  "kernelspec": {
   "display_name": "Python 3",
   "language": "python",
   "name": "python3"
  },
  "language_info": {
   "codemirror_mode": {
    "name": "ipython",
    "version": 3
   },
   "file_extension": ".py",
   "mimetype": "text/x-python",
   "name": "python",
   "nbconvert_exporter": "python",
   "pygments_lexer": "ipython3",
   "version": "3.5.2"
  }
 },
 "nbformat": 4,
 "nbformat_minor": 2
}
